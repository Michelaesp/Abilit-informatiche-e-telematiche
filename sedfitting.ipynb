{
 "cells": [
  {
   "cell_type": "markdown",
   "metadata": {
    "id": "g5XGidzHNGLy"
   },
   "source": []
  },
  {
   "cell_type": "code",
   "execution_count": 1,
   "metadata": {
    "id": "xSkpn3tZ9SwI"
   },
   "outputs": [
    {
     "name": "stdout",
     "output_type": "stream",
     "text": [
      "Bagpipes: Latex distribution not found, plots may look strange.\n"
     ]
    }
   ],
   "source": [
    "import bagpipes as pipes\n",
    "import numpy as np"
   ]
  },
  {
   "cell_type": "markdown",
   "metadata": {},
   "source": [
    "Modifico il file con la risposta dei filtri in modo tale da avere 15 files per i 15 filtri, con due colonne riportanti lunghezze d'onda in Angstrom e trasmissione."
   ]
  },
  {
   "cell_type": "code",
   "execution_count": 2,
   "metadata": {
    "id": "yjFLj5rGH-Rj"
   },
   "outputs": [],
   "source": [
    "with open('COSMOS_photometry/FILTER.RES.UVISTA4.1_trimmed.R300', 'r') as f:\n",
    "  lines = f.readlines()            #file con curve di trasmissione di tutti i filtri\n",
    "f.close()\n",
    "\n",
    "with open('COSMOS_photometry/FILTER.RES.UVISTA4.1_trimmed.R300.info', 'r') as f:\n",
    "  markers = f.readlines()         #file con info sui filtri, le cui stringhe separano i dati nel precedente, lo uso per separare le curve dei singoli filtri \n",
    "f.close()\n",
    "\n",
    "off = []\n",
    "for mark in markers:       \n",
    " for i,line in enumerate(lines):\n",
    "   if (line in mark):\n",
    "    off.append(int(i))\n",
    "off.append(len(lines))\n",
    "\n",
    "filter_list = []\n",
    "\n",
    "for i in range(len(off)-1):      #separo i filtri\n",
    "   filename = 'filters/filt_%d.txt' % (i+1)\n",
    "   with open(filename, 'w') as f:\n",
    "    for line in lines[off[i]+1:off[i+1]]:\n",
    "      f.write(line)\n",
    "    filter_list.append(filename)\n",
    "   f.close()\n",
    "\n",
    "#print(lines[off[0]+1:off[1]])\n"
   ]
  },
  {
   "cell_type": "code",
   "execution_count": 3,
   "metadata": {
    "colab": {
     "base_uri": "https://localhost:8080/"
    },
    "id": "j-ehA_OyeubP",
    "outputId": "6081f8ce-d5f1-4f02-fbb8-d95b67b86a91"
   },
   "outputs": [
    {
     "name": "stdout",
     "output_type": "stream",
     "text": [
      "   Lambda  Transmittance\n",
      "0  9540.0       0.025401\n",
      "1  9550.0       0.028100\n",
      "2  9560.0       0.033062\n",
      "3  9570.0       0.037622\n",
      "4  9580.0       0.043422\n",
      "5  9590.0       0.050846\n",
      "6  9600.0       0.059126\n",
      "7  9610.0       0.068251\n",
      "8  9620.0       0.079256\n",
      "9  9630.0       0.092076\n",
      "    Lambda  Transmittance\n",
      "0  11430.0       0.009115\n",
      "1  11440.0       0.009073\n",
      "2  11450.0       0.010162\n",
      "3  11460.0       0.011654\n",
      "4  11470.0       0.013607\n",
      "5  11480.0       0.015592\n",
      "6  11490.0       0.018780\n",
      "7  11500.0       0.022590\n",
      "8  11510.0       0.026625\n",
      "9  11520.0       0.031378\n",
      "    Lambda  Transmittance\n",
      "0  14610.0       0.008064\n",
      "1  14620.0       0.008779\n",
      "2  14630.0       0.008666\n",
      "3  14640.0       0.009143\n",
      "4  14650.0       0.009388\n",
      "5  14660.0       0.010778\n",
      "6  14670.0       0.011716\n",
      "7  14680.0       0.012515\n",
      "8  14690.0       0.012943\n",
      "9  14700.0       0.014259\n",
      "    Lambda  Transmittance\n",
      "0  19340.0       0.004569\n",
      "1  19350.0       0.007885\n",
      "2  19360.0       0.006529\n",
      "3  19370.0       0.006987\n",
      "4  19380.0       0.007100\n",
      "5  19390.0       0.007582\n",
      "6  19400.0       0.008495\n",
      "7  19410.0       0.009834\n",
      "8  19420.0       0.010647\n",
      "9  19430.0       0.011046\n",
      "   Lambda  Transmittance\n",
      "0  3630.0       0.000000\n",
      "1  3640.0       0.000000\n",
      "2  3650.0       0.005200\n",
      "3  3660.0       0.006958\n",
      "4  3670.0       0.009827\n",
      "5  3680.0       0.013246\n",
      "6  3690.0       0.017305\n",
      "7  3700.0       0.022153\n",
      "8  3710.0       0.028032\n",
      "9  3720.0       0.035275\n",
      "   Lambda  Transmittance\n",
      "0  4810.0       0.000000\n",
      "1  4825.0       0.000000\n",
      "2  4840.0       0.013673\n",
      "3  4855.0       0.026798\n",
      "4  4870.0       0.055149\n",
      "5  4885.0       0.096287\n",
      "6  4900.0       0.149469\n",
      "7  4915.0       0.210612\n",
      "8  4930.0       0.277110\n",
      "9  4945.0       0.345366\n",
      "   Lambda  Transmittance\n",
      "0  3850.0       0.000000\n",
      "1  3865.0       0.000000\n",
      "2  3880.0       0.010558\n",
      "3  3895.0       0.018607\n",
      "4  3910.0       0.035577\n",
      "5  3925.0       0.059945\n",
      "6  3940.0       0.090887\n",
      "7  3955.0       0.126765\n",
      "8  3970.0       0.165087\n",
      "9  3985.0       0.202076\n",
      "   Lambda  Transmittance\n",
      "0  5400.0       0.000000\n",
      "1  5420.0       0.000000\n",
      "2  5440.0       0.022804\n",
      "3  5460.0       0.047932\n",
      "4  5480.0       0.101512\n",
      "5  5500.0       0.176469\n",
      "6  5520.0       0.263315\n",
      "7  5540.0       0.351192\n",
      "8  5560.0       0.432054\n",
      "9  5580.0       0.505914\n",
      "   Lambda  Transmittance\n",
      "0  6720.0       0.000000\n",
      "1  6745.0       0.000000\n",
      "2  6770.0       0.013904\n",
      "3  6795.0       0.030605\n",
      "4  6820.0       0.069566\n",
      "5  6845.0       0.130886\n",
      "6  6870.0       0.211269\n",
      "7  6895.0       0.310718\n",
      "8  6920.0       0.422594\n",
      "9  6945.0       0.532800\n",
      "   Lambda  Transmittance\n",
      "0  7925.0       0.000000\n",
      "1  7955.0       0.000000\n",
      "2  7985.0       0.003141\n",
      "3  8015.0       0.003968\n",
      "4  8045.0       0.005119\n",
      "5  8075.0       0.006563\n",
      "6  8105.0       0.008587\n",
      "7  8135.0       0.011041\n",
      "8  8165.0       0.014620\n",
      "9  8195.0       0.019561\n",
      "   Lambda  Transmittance\n",
      "0  2960.0   0.000000e+00\n",
      "1  2980.0   0.000000e+00\n",
      "2  3000.0   8.196930e-08\n",
      "3  3020.0   1.877670e-11\n",
      "4  3040.0   3.369530e-11\n",
      "5  3060.0   4.747550e-11\n",
      "6  3080.0   6.055810e-11\n",
      "7  3100.0   7.315100e-11\n",
      "8  3120.0   8.536310e-11\n",
      "9  3140.0   9.727120e-11\n",
      "    Lambda  Transmittance\n",
      "0  29900.0       0.000000\n",
      "1  30015.0       0.000000\n",
      "2  30130.0       0.000884\n",
      "3  30245.0       0.000963\n",
      "4  30360.0       0.000887\n",
      "5  30475.0       0.000694\n",
      "6  30590.0       0.000906\n",
      "7  30705.0       0.001126\n",
      "8  30820.0       0.000605\n",
      "9  30935.0       0.000586\n",
      "    Lambda  Transmittance\n",
      "0  38050.0       0.000000\n",
      "1  38200.0       0.000000\n",
      "2  38350.0       0.000253\n",
      "3  38500.0       0.000245\n",
      "4  38650.0       0.000654\n",
      "5  38800.0       0.001044\n",
      "6  38950.0       0.002365\n",
      "7  39100.0       0.005190\n",
      "8  39250.0       0.011901\n",
      "9  39400.0       0.024247\n",
      "    Lambda  Transmittance\n",
      "0  48630.0       0.000000\n",
      "1  48820.0       0.000000\n",
      "2  49010.0       0.002355\n",
      "3  49200.0       0.002793\n",
      "4  49390.0       0.019953\n",
      "5  49580.0       0.086498\n",
      "6  49770.0       0.209116\n",
      "7  49960.0       0.342203\n",
      "8  50150.0       0.462975\n",
      "9  50340.0       0.543945\n",
      "    Lambda  Transmittance\n",
      "0  60200.0       0.000000\n",
      "1  60460.0       0.000000\n",
      "2  60720.0       0.000612\n",
      "3  60980.0       0.001120\n",
      "4  61240.0       0.000814\n",
      "5  61500.0       0.000717\n",
      "6  61760.0       0.000628\n",
      "7  62020.0       0.000831\n",
      "8  62280.0       0.000567\n",
      "9  62540.0       0.001092\n"
     ]
    }
   ],
   "source": [
    "import pandas as pd\n",
    "for filename in filter_list:\n",
    "  df = pd.read_csv(filename, sep=\"     \", names=['Number', 'Lambda', 'Transmittance'], engine='python')\n",
    "  #print(df)\n",
    "  df = df.drop(columns = 'Number')\n",
    "  print(df.head(10))\n",
    "  df.to_csv(filename, sep = ' ', header = False, index = False)"
   ]
  },
  {
   "cell_type": "markdown",
   "metadata": {},
   "source": [
    "Costruisco un modello all'interno di una funzione, facendo predizioni delle magnitudini nelle bande di interesse"
   ]
  },
  {
   "cell_type": "code",
   "execution_count": 28,
   "metadata": {
    "colab": {
     "base_uri": "https://localhost:8080/",
     "height": 413
    },
    "id": "RZHS1AXHg2eR",
    "outputId": "b549ea76-3dfb-41d6-9b5d-2b4506187d2b"
   },
   "outputs": [],
   "source": [
    "def mag_AB(age, tau, Av, massstar, filter_list):\n",
    "  exp = {}                          # Tau model star formation history component\n",
    "  exp[\"age\"] = age                  # Gyr\n",
    "  exp[\"tau\"] = tau                  # Gyr\n",
    "  exp[\"massformed\"] = massstar      # log_10(M*/M_solar)\n",
    "  exp[\"metallicity\"] = 1.           # Z/Z_oldsolar\n",
    "\n",
    "  dust = {}                         # Dust component\n",
    "  dust[\"type\"] = \"Calzetti\"         # Define the shape of the attenuation curve\n",
    "  dust[\"Av\"] = Av                   # magnitudes\n",
    "\n",
    "  model_components = {}                   # The model components dictionary\n",
    "  model_components[\"redshift\"] = 1.0      # Observed redshift  \n",
    "  model_components[\"exponential\"] = exp   \n",
    "  model_components[\"dust\"] = dust\n",
    "  model_components[\"IMF\"] = IMF\n",
    "\n",
    "  model = pipes.model_galaxy(model_components, filt_list=filter_list, phot_units= 'mujy')\n",
    "  fluxes = model.photometry\n",
    "  #fig = model.plot()\n",
    "  #fig = model.sfh.plot()\n",
    "  mags = [-2.5*np.log10(flux/(3631*10**6)) for flux in fluxes]\n",
    "  return mags"
   ]
  },
  {
   "cell_type": "code",
   "execution_count": 29,
   "metadata": {
    "scrolled": false
   },
   "outputs": [
    {
     "name": "stdout",
     "output_type": "stream",
     "text": [
      "predicted AB magnitudes [26.49245499363532, 26.091379047772012, 25.702559251013017, 25.395141787960736, 29.01421359208004, 28.733586289388132, 28.95469033059506, 28.343406876216225, 27.49746799871721, 26.769490468306824, 29.066524349210013, 25.143866278736738, 25.44560641285142, 25.839731746893623, 26.215386239280832]\n"
     ]
    }
   ],
   "source": [
    "\n",
    "print('predicted AB magnitudes',mag_AB(3, 0.75, 0.2, 9, filter_list))\n"
   ]
  },
  {
   "cell_type": "code",
   "execution_count": null,
   "metadata": {},
   "outputs": [],
   "source": [
    "Leggo il catalogo da file"
   ]
  },
  {
   "cell_type": "code",
   "execution_count": 9,
   "metadata": {},
   "outputs": [
    {
     "name": "stdout",
     "output_type": "stream",
     "text": [
      "   id         ra       dec      Ks_tot   eKs_tot          Ks       eKs  \\\n",
      "0   3  150.40550  1.606911   83.582300  1.231353   41.648010  0.331073   \n",
      "1   4  150.39050  1.604330   12.480370  0.560622    8.833714  0.254183   \n",
      "2   5  150.40334  1.606078   80.197670  0.917076   44.662380  0.337045   \n",
      "3  11  150.41180  1.610758  610.410900  2.202923  259.391400  0.639004   \n",
      "4  13  150.37770  1.608251  126.049200  1.280248   63.677620  0.373997   \n",
      "5  15  150.41135  1.605257    1.989051  0.235894    2.146189  0.235148   \n",
      "6  16  150.41338  1.605285    2.310419  0.244106    2.096174  0.235148   \n",
      "7  18  150.38197  1.606297    6.165348  0.644230    4.141958  0.241120   \n",
      "8  21  150.40453  1.606700    2.818413  0.333313    2.321243  0.235894   \n",
      "9  22  150.38472  1.608538   31.433270  0.703577   20.444780  0.283670   \n",
      "\n",
      "            H        eH           J  ...         u        eu         ch1  \\\n",
      "0   35.248260  0.253064   25.341820  ...  1.824820  0.093686   32.894920   \n",
      "1    6.042175  0.211260    4.234524  ...  0.068305  0.024261    9.442859   \n",
      "2   39.738460  0.259036   29.242290  ...  0.627434  0.056734   24.272840   \n",
      "3  238.037400  0.446781  186.138400  ...  3.430543  0.127652  128.594400   \n",
      "4   50.385420  0.272473   32.786300  ...  0.184012  0.033593   69.393560   \n",
      "5    1.347060  0.203795    0.876018  ...  0.275832  0.039565    2.010326   \n",
      "6    1.646407  0.204168    0.596454  ...  0.069425  0.024261    5.017603   \n",
      "7    4.165846  0.208274    3.002425  ...  0.647589  0.057481    4.350605   \n",
      "8    1.651259  0.204168    2.450761  ...  0.612877  0.055988    3.172627   \n",
      "9   16.112470  0.226563   11.137410  ...  0.462084  0.049269   21.895610   \n",
      "\n",
      "       ech1        ch2      ech2        ch3      ech3        ch4       ech4  \n",
      "0  2.003607  24.474760  1.705007  20.645220  3.149112  23.888760   2.588491  \n",
      "1  0.791291   4.764540  0.669984   6.198940  2.566469   2.333560   2.759813  \n",
      "2  1.545629  17.078810  1.308989  12.135110  2.715396  18.416170   2.962861  \n",
      "3  6.809205  94.287120  5.144881  52.618210  4.720123  35.753640   1.884914  \n",
      "4  3.819096  39.056160  2.418288  31.509410  3.689952  17.818220   2.237635  \n",
      "5  0.537854   1.668429  0.622581   2.852378  2.486966   2.733685   3.172254  \n",
      "6  0.701710   3.053187  0.736796   4.431227  2.665753   6.216482   2.425007  \n",
      "7  0.549798   1.401181  0.538600   4.519314  2.395893   1.563919   2.902767  \n",
      "8  0.564728   0.510606  0.586749   6.117571  2.703825   5.158319  15.049080  \n",
      "9  1.425443  11.645780  1.039502  12.280310  2.955022   7.328396   2.641492  \n",
      "\n",
      "[10 rows x 35 columns]\n"
     ]
    }
   ],
   "source": [
    "c_list =pd.Index(['id', 'ra', 'dec', 'Ks_tot', 'eKs_tot', 'Ks', 'eKs', 'H', 'eH', 'J', 'eJ','Y', 'eY', 'zp','ezp','ip','eip','rp','erp', 'V','eV','gp','egp','B','eB','u','eu','ch1','ech1','ch2','ech2','ch3','ech3','ch4','ech4'])\n",
    "df = pd.read_csv('COSMOS_photometry/UVISTA4.1_trimmed.cat', sep=' ', header=None, skipinitialspace= True, skiprows= 2, engine='python')\n",
    "df.columns = c_list\n",
    "print(df.head(10))"
   ]
  },
  {
   "cell_type": "markdown",
   "metadata": {},
   "source": [
    "Carico i dati della prima galassia (id 3)"
   ]
  },
  {
   "cell_type": "code",
   "execution_count": 30,
   "metadata": {},
   "outputs": [
    {
     "data": {
      "image/png": "[encoded data removed]",
      "text/plain": [
       "<Figure size 864x288 with 1 Axes>"
      ]
     },
     "metadata": {
      "needs_background": "light"
     },
     "output_type": "display_data"
    },
    {
     "data": {
      "text/plain": [
       "(<Figure size 864x288 with 1 Axes>,\n",
       " [<AxesSubplot:xlabel='log_10(lambda / A)', ylabel='f_lambda / 10^0 erg s^-1 cm^-2 A^-1'>])"
      ]
     },
     "execution_count": 30,
     "metadata": {},
     "output_type": "execute_result"
    }
   ],
   "source": [
    "def load_data(Id):\n",
    "    c_list =pd.Index(['id', 'ra', 'dec', 'Ks_tot', 'eKs_tot', 'Ks', 'eKs', 'H', 'eH', 'J', 'eJ','Y', 'eY', 'zp','ezp','ip','eip','rp','erp', 'V','eV','gp','egp','B','eB','u','eu','ch1','ech1','ch2','ech2','ch3','ech3','ch4','ech4'])\n",
    "    df = pd.read_csv('COSMOS_photometry/UVISTA4.1_trimmed.cat', sep=' ', header=None, skipinitialspace= True, skiprows= 2, engine='python')\n",
    "    df.columns = c_list\n",
    "    flux = [ 'Y', 'J', 'H', 'Ks', 'B', 'V', 'gp', 'rp', 'ip', 'zp', 'u', 'ch1', 'ch2', 'ch3', 'ch4']\n",
    "    flux_err = [ 'eY', 'eJ', 'eH', 'eKs', 'eB', 'eV', 'egp', 'erp', 'eip', 'ezp', 'eu', 'ech1', 'ech2', 'ech3', 'ech4']\n",
    "    photometry=np.column_stack(([df.loc[df['id'] == int(Id), flux[l]] for l in range(15)],[df.loc[df['id'] == int(Id), flux_err[l]] for l in range(15)]))\n",
    "    return photometry\n",
    "\n",
    "galaxy = pipes.galaxy(ID= '3', load_data= load_data, spectrum_exists = False, out_units='mujy', filt_list = filter_list)\n",
    "galaxy.plot()"
   ]
  },
  {
   "cell_type": "code",
   "execution_count": 31,
   "metadata": {},
   "outputs": [
    {
     "name": "stdout",
     "output_type": "stream",
     "text": [
      "[[1.02032759e+04 2.27999900e+01 1.89237900e-01]\n",
      " [1.24993110e+04 2.53418200e+01 1.90730900e-01]\n",
      " [1.63816700e+04 3.52482600e+01 2.53063700e-01]\n",
      " [2.14976583e+04 4.16480100e+01 3.31073000e-01]\n",
      " [4.42713421e+03 2.58475800e+00 3.73250200e-02]\n",
      " [5.45484985e+03 4.40286000e+00 5.22550300e-02]\n",
      " [4.72838533e+03 3.12037200e+00 3.20995200e-02]\n",
      " [6.24895357e+03 7.69194100e+00 7.68895500e-02]\n",
      " [7.64588905e+03 1.37206800e+01 8.32348100e-02]\n",
      " [9.01091189e+03 1.71896700e+01 1.27651600e-01]\n",
      " [3.81332031e+03 1.82482000e+00 9.36858100e-02]\n",
      " [3.54392858e+04 3.28949200e+01 2.00360700e+00]\n",
      " [4.48408365e+04 2.44747600e+01 1.70500700e+00]\n",
      " [5.71638984e+04 2.06452200e+01 3.14911200e+00]\n",
      " [7.82833732e+04 2.38887600e+01 2.58849100e+00]]\n"
     ]
    }
   ],
   "source": [
    "print(galaxy.photometry)"
   ]
  },
  {
   "cell_type": "markdown",
   "metadata": {},
   "source": [
    "Fitting, inizio con un modello semplice (come esempio)"
   ]
  },
  {
   "cell_type": "code",
   "execution_count": 33,
   "metadata": {},
   "outputs": [
    {
     "name": "stdout",
     "output_type": "stream",
     "text": [
      "\n",
      "Bagpipes: fitting object 3\n",
      "\n",
      " MultiNest Warning: no resume file found, starting from scratch\n",
      " *****************************************************\n",
      " MultiNest v3.10\n",
      " Copyright Farhan Feroz & Mike Hobson\n",
      " Release Jul 2015\n",
      "\n",
      " no. of live points =  400\n",
      " dimensionality =    5\n",
      " *****************************************************\n",
      " ln(ev)=  -72511.306707380747      +/-   3.1721916985091941E-002\n",
      " Total Likelihood Evaluations:          683\n",
      " Sampling finished. Exiting MultiNest\n",
      "\n",
      "Completed in 3.3 seconds.\n",
      "\n",
      "Parameter                          Posterior percentiles\n",
      "                                16th       50th       84th\n",
      "----------------------------------------------------------\n",
      "burst:age                      1.539      4.501      8.197\n",
      "burst:massformed               2.349      6.567     10.648\n",
      "burst:metallicity              0.525      1.049      1.516\n",
      "dust:Av                        0.289      1.021      1.720\n",
      "redshift                       0.700      0.700      0.700\n",
      "\n",
      "\n"
     ]
    },
    {
     "name": "stderr",
     "output_type": "stream",
     "text": [
      "/home/michela/.local/lib/python3.8/site-packages/bagpipes/models/star_formation_history.py:131: RuntimeWarning: divide by zero encountered in log10\n",
      "  self.ssfr = np.log10(self.sfr) - self.stellar_mass\n",
      "/home/michela/.local/lib/python3.8/site-packages/bagpipes/models/star_formation_history.py:132: RuntimeWarning: divide by zero encountered in log10\n",
      "  self.nsfr = np.log10(self.sfr*self.age_of_universe) - self.formed_mass\n",
      "/home/michela/.local/lib/python3.8/site-packages/bagpipes/models/star_formation_history.py:125: RuntimeWarning: divide by zero encountered in log10\n",
      "  self.stellar_mass = np.log10(np.sum(self.live_frac_grid*self.ceh.grid))\n",
      "/home/michela/.local/lib/python3.8/site-packages/bagpipes/models/star_formation_history.py:126: RuntimeWarning: divide by zero encountered in log10\n",
      "  self.formed_mass = np.log10(np.sum(self.ceh.grid))\n",
      "/home/michela/.local/lib/python3.8/site-packages/bagpipes/models/star_formation_history.py:131: RuntimeWarning: invalid value encountered in double_scalars\n",
      "  self.ssfr = np.log10(self.sfr) - self.stellar_mass\n",
      "/home/michela/.local/lib/python3.8/site-packages/bagpipes/models/star_formation_history.py:132: RuntimeWarning: invalid value encountered in double_scalars\n",
      "  self.nsfr = np.log10(self.sfr*self.age_of_universe) - self.formed_mass\n"
     ]
    }
   ],
   "source": [
    "burst = {}\n",
    "burst[\"age\"] = (0., 15.)                  # Vary age from 0 to 15 Gyr\n",
    "burst[\"metallicity\"] = (0., 2.5)          # Vary metallicity from 0 to 2.5 Solar\n",
    "burst[\"metallicity_prior\"] = \"Gaussian\"\n",
    "burst[\"metallicity_prior_mu\"] = 1.\n",
    "burst[\"metallicity_prior_sigma\"] = .5\n",
    "burst[\"massformed\"] = (0., 13.)           # Vary log_10(mass formed) from 0 to 13\n",
    "\"\"\"\n",
    "exp = {}                                  # Tau-model star-formation history component\n",
    "exp[\"age\"] = (0.1, 15.)                   # Vary age between 100 Myr and 15 Gyr. In practice \n",
    "                                          # the code automatically limits this to the age of\n",
    "                                          # the Universe at the observed redshift.\n",
    "\n",
    "exp[\"tau\"] = (0.3, 10.)                   # Vary tau between 300 Myr and 10 Gyr\n",
    "exp[\"massformed\"] = (1., 15.)             # vary log_10(M*/M_solar) between 1 and 15\n",
    "exp[\"metallicity\"] = (0., 2.5)            # vary Z between 0 and 2.5 Z_oldsolar\n",
    "\"\"\"\n",
    "dust = {}                                 # Dust component\n",
    "dust[\"type\"] = \"Calzetti\"                 # Define the shape of the attenuation curve\n",
    "dust[\"Av\"] = (0., 2.)                     # Vary Av between 0 and 2 magnitudes\n",
    "\n",
    "fit_instructions = {}\n",
    "fit_instructions[\"burst\"] = burst         # Add the burst sfh component to the fit\n",
    "fit_instructions[\"redshift\"] = (0., 10.)  # Vary observed redshift from 0 to 10\n",
    "fit_instructions[\"redshift_prior\"] = \"Gaussian\"\n",
    "fit_instructions[\"redshift_prior_mu\"] = 0.7\n",
    "fit_instructions[\"redshift_prior_sigma\"] = 0.\n",
    "fit_instructions[\"dust\"] = dust\n",
    "\n",
    "fit = pipes.fit(galaxy, fit_instructions)\n",
    "\n",
    "fit.fit(verbose=False, use_MPI=False)"
   ]
  },
  {
   "cell_type": "code",
   "execution_count": null,
   "metadata": {},
   "outputs": [],
   "source": []
  }
 ],
 "metadata": {
  "colab": {
   "name": "Untitled3.ipynb",
   "provenance": []
  },
  "kernelspec": {
   "display_name": "Python 3 (ipykernel)",
   "language": "python",
   "name": "python3"
  },
  "language_info": {
   "codemirror_mode": {
    "name": "ipython",
    "version": 3
   },
   "file_extension": ".py",
   "mimetype": "text/x-python",
   "name": "python",
   "nbconvert_exporter": "python",
   "pygments_lexer": "ipython3",
   "version": "3.8.10"
  }
 },
 "nbformat": 4,
 "nbformat_minor": 1
}
