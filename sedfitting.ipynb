{
 "cells": [
  {
   "cell_type": "markdown",
   "metadata": {
    "id": "g5XGidzHNGLy"
   },
   "source": []
  },
  {
   "cell_type": "code",
   "execution_count": 2,
   "metadata": {
    "id": "xSkpn3tZ9SwI"
   },
   "outputs": [],
   "source": [
    "import bagpipes as pipes\n",
    "import numpy as np"
   ]
  },
  {
   "cell_type": "markdown",
   "metadata": {},
   "source": [
    "Modifico il file con la risposta dei filtri in modo tale da avere 15 files per i 15 filtri, con due colonne riportanti lunghezze d'onda in Angstrom e trasmissione."
   ]
  },
  {
   "cell_type": "code",
   "execution_count": 12,
   "metadata": {
    "id": "yjFLj5rGH-Rj"
   },
   "outputs": [],
   "source": [
    "with open('COSMOS_photometry/FILTER.RES.UVISTA4.1_trimmed.R300', 'r') as f:\n",
    "  lines = f.readlines()            #file con curve di trasmissione di tutti i filtri\n",
    "f.close()\n",
    "\n",
    "with open('COSMOS_photometry/FILTER.RES.UVISTA4.1_trimmed.R300.info', 'r') as f:\n",
    "  markers = f.readlines()         #file con info sui filtri, le cui stringhe separano i dati nel precedente, lo uso per separare le curve dei singoli filtri \n",
    "f.close()\n",
    "\n",
    "off = []\n",
    "for mark in markers:       \n",
    " for i,line in enumerate(lines):\n",
    "   if (line in mark):\n",
    "    off.append(int(i))\n",
    "off.append(len(lines))\n",
    "\n",
    "filter_list = []\n",
    "\n",
    "for i in range(len(off)-1):      #separo i filtri\n",
    "   filename = 'filters/filt_%d.txt' % (i+1)\n",
    "   with open(filename, 'w') as f:\n",
    "    for line in lines[off[i]+1:off[i+1]]:\n",
    "      f.write(line)\n",
    "    filter_list.append(filename)\n",
    "   f.close()\n",
    "\n",
    "#print(lines[off[0]+1:off[1]])\n"
   ]
  },
  {
   "cell_type": "code",
   "execution_count": 13,
   "metadata": {
    "colab": {
     "base_uri": "https://localhost:8080/"
    },
    "id": "j-ehA_OyeubP",
    "outputId": "6081f8ce-d5f1-4f02-fbb8-d95b67b86a91"
   },
   "outputs": [
    {
     "name": "stdout",
     "output_type": "stream",
     "text": [
      "   Lambda  Transmittance\n",
      "0  9540.0       0.025401\n",
      "1  9550.0       0.028100\n",
      "2  9560.0       0.033062\n",
      "3  9570.0       0.037622\n",
      "4  9580.0       0.043422\n",
      "5  9590.0       0.050846\n",
      "6  9600.0       0.059126\n",
      "7  9610.0       0.068251\n",
      "8  9620.0       0.079256\n",
      "9  9630.0       0.092076\n",
      "    Lambda  Transmittance\n",
      "0  11430.0       0.009115\n",
      "1  11440.0       0.009073\n",
      "2  11450.0       0.010162\n",
      "3  11460.0       0.011654\n",
      "4  11470.0       0.013607\n",
      "5  11480.0       0.015592\n",
      "6  11490.0       0.018780\n",
      "7  11500.0       0.022590\n",
      "8  11510.0       0.026625\n",
      "9  11520.0       0.031378\n",
      "    Lambda  Transmittance\n",
      "0  14610.0       0.008064\n",
      "1  14620.0       0.008779\n",
      "2  14630.0       0.008666\n",
      "3  14640.0       0.009143\n",
      "4  14650.0       0.009388\n",
      "5  14660.0       0.010778\n",
      "6  14670.0       0.011716\n",
      "7  14680.0       0.012515\n",
      "8  14690.0       0.012943\n",
      "9  14700.0       0.014259\n",
      "    Lambda  Transmittance\n",
      "0  19340.0       0.004569\n",
      "1  19350.0       0.007885\n",
      "2  19360.0       0.006529\n",
      "3  19370.0       0.006987\n",
      "4  19380.0       0.007100\n",
      "5  19390.0       0.007582\n",
      "6  19400.0       0.008495\n",
      "7  19410.0       0.009834\n",
      "8  19420.0       0.010647\n",
      "9  19430.0       0.011046\n",
      "   Lambda  Transmittance\n",
      "0  3630.0       0.000000\n",
      "1  3640.0       0.000000\n",
      "2  3650.0       0.005200\n",
      "3  3660.0       0.006958\n",
      "4  3670.0       0.009827\n",
      "5  3680.0       0.013246\n",
      "6  3690.0       0.017305\n",
      "7  3700.0       0.022153\n",
      "8  3710.0       0.028032\n",
      "9  3720.0       0.035275\n",
      "   Lambda  Transmittance\n",
      "0  4810.0       0.000000\n",
      "1  4825.0       0.000000\n",
      "2  4840.0       0.013673\n",
      "3  4855.0       0.026798\n",
      "4  4870.0       0.055149\n",
      "5  4885.0       0.096287\n",
      "6  4900.0       0.149469\n",
      "7  4915.0       0.210612\n",
      "8  4930.0       0.277110\n",
      "9  4945.0       0.345366\n",
      "   Lambda  Transmittance\n",
      "0  3850.0       0.000000\n",
      "1  3865.0       0.000000\n",
      "2  3880.0       0.010558\n",
      "3  3895.0       0.018607\n",
      "4  3910.0       0.035577\n",
      "5  3925.0       0.059945\n",
      "6  3940.0       0.090887\n",
      "7  3955.0       0.126765\n",
      "8  3970.0       0.165087\n",
      "9  3985.0       0.202076\n",
      "   Lambda  Transmittance\n",
      "0  5400.0       0.000000\n",
      "1  5420.0       0.000000\n",
      "2  5440.0       0.022804\n",
      "3  5460.0       0.047932\n",
      "4  5480.0       0.101512\n",
      "5  5500.0       0.176469\n",
      "6  5520.0       0.263315\n",
      "7  5540.0       0.351192\n",
      "8  5560.0       0.432054\n",
      "9  5580.0       0.505914\n",
      "   Lambda  Transmittance\n",
      "0  6720.0       0.000000\n",
      "1  6745.0       0.000000\n",
      "2  6770.0       0.013904\n",
      "3  6795.0       0.030605\n",
      "4  6820.0       0.069566\n",
      "5  6845.0       0.130886\n",
      "6  6870.0       0.211269\n",
      "7  6895.0       0.310718\n",
      "8  6920.0       0.422594\n",
      "9  6945.0       0.532800\n",
      "   Lambda  Transmittance\n",
      "0  7925.0       0.000000\n",
      "1  7955.0       0.000000\n",
      "2  7985.0       0.003141\n",
      "3  8015.0       0.003968\n",
      "4  8045.0       0.005119\n",
      "5  8075.0       0.006563\n",
      "6  8105.0       0.008587\n",
      "7  8135.0       0.011041\n",
      "8  8165.0       0.014620\n",
      "9  8195.0       0.019561\n",
      "   Lambda  Transmittance\n",
      "0  2960.0   0.000000e+00\n",
      "1  2980.0   0.000000e+00\n",
      "2  3000.0   8.196930e-08\n",
      "3  3020.0   1.877670e-11\n",
      "4  3040.0   3.369530e-11\n",
      "5  3060.0   4.747550e-11\n",
      "6  3080.0   6.055810e-11\n",
      "7  3100.0   7.315100e-11\n",
      "8  3120.0   8.536310e-11\n",
      "9  3140.0   9.727120e-11\n",
      "    Lambda  Transmittance\n",
      "0  29900.0       0.000000\n",
      "1  30015.0       0.000000\n",
      "2  30130.0       0.000884\n",
      "3  30245.0       0.000963\n",
      "4  30360.0       0.000887\n",
      "5  30475.0       0.000694\n",
      "6  30590.0       0.000906\n",
      "7  30705.0       0.001126\n",
      "8  30820.0       0.000605\n",
      "9  30935.0       0.000586\n",
      "    Lambda  Transmittance\n",
      "0  38050.0       0.000000\n",
      "1  38200.0       0.000000\n",
      "2  38350.0       0.000253\n",
      "3  38500.0       0.000245\n",
      "4  38650.0       0.000654\n",
      "5  38800.0       0.001044\n",
      "6  38950.0       0.002365\n",
      "7  39100.0       0.005190\n",
      "8  39250.0       0.011901\n",
      "9  39400.0       0.024247\n",
      "    Lambda  Transmittance\n",
      "0  48630.0       0.000000\n",
      "1  48820.0       0.000000\n",
      "2  49010.0       0.002355\n",
      "3  49200.0       0.002793\n",
      "4  49390.0       0.019953\n",
      "5  49580.0       0.086498\n",
      "6  49770.0       0.209116\n",
      "7  49960.0       0.342203\n",
      "8  50150.0       0.462975\n",
      "9  50340.0       0.543945\n",
      "    Lambda  Transmittance\n",
      "0  60200.0       0.000000\n",
      "1  60460.0       0.000000\n",
      "2  60720.0       0.000612\n",
      "3  60980.0       0.001120\n",
      "4  61240.0       0.000814\n",
      "5  61500.0       0.000717\n",
      "6  61760.0       0.000628\n",
      "7  62020.0       0.000831\n",
      "8  62280.0       0.000567\n",
      "9  62540.0       0.001092\n"
     ]
    }
   ],
   "source": [
    "import pandas as pd\n",
    "for filename in filter_list:\n",
    "  df = pd.read_csv(filename, sep=\"     \", names=['Number', 'Lambda', 'Transmittance'], engine='python')\n",
    "  #print(df)\n",
    "  df = df.drop(columns = 'Number')\n",
    "  print(df.head(10))\n",
    "  df.to_csv(filename, sep = ' ', header = False, index = False)"
   ]
  },
  {
   "cell_type": "markdown",
   "metadata": {},
   "source": [
    "Costruisco un modello, facendo predizioni delle magnitudini nelle bande di interesse"
   ]
  },
  {
   "cell_type": "code",
   "execution_count": 14,
   "metadata": {
    "colab": {
     "base_uri": "https://localhost:8080/",
     "height": 413
    },
    "id": "RZHS1AXHg2eR",
    "outputId": "b549ea76-3dfb-41d6-9b5d-2b4506187d2b"
   },
   "outputs": [],
   "source": [
    "exp = {}                          # Tau model star formation history component\n",
    "exp[\"age\"] = 3.                   # Gyr\n",
    "exp[\"tau\"] = 0.75                 # Gyr\n",
    "exp[\"massformed\"] = 9.            # log_10(M*/M_solar)\n",
    "exp[\"metallicity\"] = 0.5          # Z/Z_oldsolar\n",
    "\n",
    "dust = {}                         # Dust component\n",
    "dust[\"type\"] = \"Calzetti\"         # Define the shape of the attenuation curve\n",
    "dust[\"Av\"] = 0.2                  # magnitudes\n",
    "\n",
    "model_components = {}                   # The model components dictionary\n",
    "model_components[\"redshift\"] = 1.0      # Observed redshift  \n",
    "model_components[\"exponential\"] = exp   \n",
    "model_components[\"dust\"] = dust\n",
    "\n",
    "model = pipes.model_galaxy(model_components, filt_list=filter_list, phot_units= 'mujy')"
   ]
  },
  {
   "cell_type": "code",
   "execution_count": 15,
   "metadata": {},
   "outputs": [
    {
     "name": "stderr",
     "output_type": "stream",
     "text": [
      "C:\\Users\\Admin\\Anaconda3\\lib\\site-packages\\matplotlib\\font_manager.py:1241: UserWarning: findfont: Font family ['sans-serif'] not found. Falling back to DejaVu Sans.\n",
      "  (prop.get_family(), self.defaultFamily[fontext]))\n"
     ]
    },
    {
     "data": {
      "image/png": "[encoded data removed]",
      "text/plain": [
       "<Figure size 864x288 with 1 Axes>"
      ]
     },
     "metadata": {
      "needs_background": "light"
     },
     "output_type": "display_data"
    },
    {
     "data": {
      "image/png": "[encoded data removed]",
      "text/plain": [
       "<Figure size 864x288 with 2 Axes>"
      ]
     },
     "metadata": {
      "needs_background": "light"
     },
     "output_type": "display_data"
    },
    {
     "name": "stdout",
     "output_type": "stream",
     "text": [
      "predicted fluxes (muJy) [0.11184053 0.15717237 0.2150064  0.25763276 0.01017897 0.01371853\n",
      " 0.01088732 0.02030351 0.04572351 0.08737654 0.00944302 0.31122642\n",
      " 0.23738396 0.16877958 0.11360861]\n"
     ]
    }
   ],
   "source": [
    "fig = model.plot()\n",
    "fig = model.sfh.plot()\n",
    "print('predicted fluxes (muJy)',model.photometry)"
   ]
  },
  {
   "cell_type": "code",
   "execution_count": 28,
   "metadata": {
    "scrolled": true
   },
   "outputs": [
    {
     "name": "stdout",
     "output_type": "stream",
     "text": [
      "#            id              ra             dec          Ks_tot         eKs_tot              Ks             eKs              H               eH            J                 eJ              Y               eY              zp             ezp              ip             eip              rp             erp               V              eV              gp             egp               B              eB               u             eu              ch1            ech1             ch2            ech2             ch3            ech3             ch4            ech4\n",
      " \n",
      " #\n",
      " \n",
      "               3       150.40550       1.6069111    8.358230e+01    1.231353e+00    4.164801e+01    3.310730e-01    3.524826e+01    2.530637e-01    2.534182e+01    1.907309e-01\t   2.279999e+01    1.892379e-01    1.718967e+01    1.276516e-01    1.372068e+01    8.323481e-02    7.691941e+00    7.688955e-02    4.402860e+00    5.225503e-02\t   3.120372e+00    3.209952e-02    2.584758e+00    3.732502e-02    1.824820e+00    9.368581e-02\t   3.289492e+01    2.003607e+00    2.447476e+01    1.705007e+00    2.064522e+01    3.149112e+00    2.388876e+01    2.588491e+00\n",
      " \n",
      "               4       150.39050       1.6043303    1.248037e+01    5.606219e-01    8.833714e+00    2.541834e-01    6.042175e+00    2.112596e-01    4.234524e+00    1.530326e-01\t   3.234587e+00    1.336236e-01    2.313032e+00    8.062205e-02    1.698289e+00    4.292378e-02    5.815239e-01    3.060652e-02    2.944944e-01    2.388801e-02\t   1.463141e-01    2.314151e-02    1.138413e-01    1.642301e-02    6.830480e-02    2.426127e-02\t   9.442859e+00    7.912905e-01    4.764540e+00    6.699842e-01    6.198940e+00    2.566469e+00    2.333560e+00    2.759813e+00\n",
      " \n",
      "               5       150.40334       1.6060778    8.019767e+01    9.170759e-01    4.466238e+01    3.370450e-01    3.973846e+01    2.590357e-01    2.924229e+01    1.967029e-01\t   2.213299e+01    1.877449e-01    1.705604e+01    1.272783e-01    1.314289e+01    8.174181e-02    6.954399e+00    7.353029e-02    4.559252e+00    5.300154e-02\t   2.311539e+00    2.986002e-02    1.487402e+00    2.986002e-02    6.274337e-01    5.673404e-02\t   2.427284e+01    1.545629e+00    1.707881e+01    1.308989e+00    1.213511e+01    2.715396e+00    1.841617e+01    2.962861e+00\n",
      "\n"
     ]
    }
   ],
   "source": [
    "with open('COSMOS_photometry/UVISTA4.1_trimmed.cat', 'r') as f:\n",
    "    cat = f.readlines()\n",
    "f.close()\n",
    "print(cat[0], '\\n', cat[1], '\\n',cat[2], '\\n', cat[3], '\\n', cat[4])"
   ]
  },
  {
   "cell_type": "code",
   "execution_count": 45,
   "metadata": {},
   "outputs": [
    {
     "name": "stdout",
     "output_type": "stream",
     "text": [
      "   id         ra       dec      Ks_tot   eKs_tot          Ks       eKs  \\\n",
      "0   3  150.40550  1.606911   83.582300  1.231353   41.648010  0.331073   \n",
      "1   4  150.39050  1.604330   12.480370  0.560622    8.833714  0.254183   \n",
      "2   5  150.40334  1.606078   80.197670  0.917076   44.662380  0.337045   \n",
      "3  11  150.41180  1.610758  610.410900  2.202923  259.391400  0.639004   \n",
      "4  13  150.37770  1.608251  126.049200  1.280248   63.677620  0.373997   \n",
      "5  15  150.41135  1.605257    1.989051  0.235894    2.146189  0.235148   \n",
      "6  16  150.41338  1.605285    2.310419  0.244106    2.096174  0.235148   \n",
      "7  18  150.38197  1.606297    6.165348  0.644230    4.141958  0.241120   \n",
      "8  21  150.40453  1.606700    2.818413  0.333313    2.321243  0.235894   \n",
      "9  22  150.38472  1.608538   31.433270  0.703577   20.444780  0.283670   \n",
      "\n",
      "            H        eH           J  ...         u        eu         ch1  \\\n",
      "0   35.248260  0.253064   25.341820  ...  1.824820  0.093686   32.894920   \n",
      "1    6.042175  0.211260    4.234524  ...  0.068305  0.024261    9.442859   \n",
      "2   39.738460  0.259036   29.242290  ...  0.627434  0.056734   24.272840   \n",
      "3  238.037400  0.446781  186.138400  ...  3.430543  0.127652  128.594400   \n",
      "4   50.385420  0.272473   32.786300  ...  0.184012  0.033593   69.393560   \n",
      "5    1.347060  0.203795    0.876018  ...  0.275832  0.039565    2.010326   \n",
      "6    1.646407  0.204168    0.596454  ...  0.069425  0.024261    5.017603   \n",
      "7    4.165846  0.208274    3.002425  ...  0.647589  0.057481    4.350605   \n",
      "8    1.651259  0.204168    2.450761  ...  0.612877  0.055988    3.172627   \n",
      "9   16.112470  0.226563   11.137410  ...  0.462084  0.049269   21.895610   \n",
      "\n",
      "       ech1        ch2      ech2        ch3      ech3        ch4       ech4  \n",
      "0  2.003607  24.474760  1.705007  20.645220  3.149112  23.888760   2.588491  \n",
      "1  0.791291   4.764540  0.669984   6.198940  2.566469   2.333560   2.759813  \n",
      "2  1.545629  17.078810  1.308989  12.135110  2.715396  18.416170   2.962861  \n",
      "3  6.809205  94.287120  5.144881  52.618210  4.720123  35.753640   1.884914  \n",
      "4  3.819096  39.056160  2.418288  31.509410  3.689952  17.818220   2.237635  \n",
      "5  0.537854   1.668429  0.622581   2.852378  2.486966   2.733685   3.172254  \n",
      "6  0.701710   3.053187  0.736796   4.431227  2.665753   6.216482   2.425007  \n",
      "7  0.549798   1.401181  0.538600   4.519314  2.395893   1.563919   2.902767  \n",
      "8  0.564728   0.510606  0.586749   6.117571  2.703825   5.158319  15.049080  \n",
      "9  1.425443  11.645780  1.039502  12.280310  2.955022   7.328396   2.641492  \n",
      "\n",
      "[10 rows x 35 columns]\n"
     ]
    }
   ],
   "source": [
    "c_list =pd.Index(['id', 'ra', 'dec', 'Ks_tot', 'eKs_tot', 'Ks', 'eKs', 'H', 'eH', 'J', 'eJ','Y', 'eY', 'zp','ezp','ip','eip','rp','erp', 'V','eV','gp','egp','B','eB','u','eu','ch1','ech1','ch2','ech2','ch3','ech3','ch4','ech4'])\n",
    "df = pd.read_csv('COSMOS_photometry/UVISTA4.1_trimmed.cat', sep=' ', header=None, skipinitialspace= True, skiprows= 2, engine='python')\n",
    "df.columns = c_list\n",
    "print(df.head(10))"
   ]
  },
  {
   "cell_type": "code",
   "execution_count": 118,
   "metadata": {},
   "outputs": [
    {
     "data": {
      "image/png": "[encoded data removed]",
      "text/plain": [
       "<Figure size 864x288 with 1 Axes>"
      ]
     },
     "metadata": {
      "needs_background": "light"
     },
     "output_type": "display_data"
    },
    {
     "data": {
      "text/plain": [
       "(<Figure size 864x288 with 1 Axes>,\n",
       " [<matplotlib.axes._subplots.AxesSubplot at 0x2ae819d0898>])"
      ]
     },
     "execution_count": 118,
     "metadata": {},
     "output_type": "execute_result"
    }
   ],
   "source": [
    "df.at[i,'id']   #\n",
    "def load_data(Id):\n",
    "    c_list =pd.Index(['id', 'ra', 'dec', 'Ks_tot', 'eKs_tot', 'Ks', 'eKs', 'H', 'eH', 'J', 'eJ','Y', 'eY', 'zp','ezp','ip','eip','rp','erp', 'V','eV','gp','egp','B','eB','u','eu','ch1','ech1','ch2','ech2','ch3','ech3','ch4','ech4'])\n",
    "    df = pd.read_csv('COSMOS_photometry/UVISTA4.1_trimmed.cat', sep=' ', header=None, skipinitialspace= True, skiprows= 2, engine='python')\n",
    "    df.columns = c_list\n",
    "    flux = [ 'Y', 'J', 'H', 'Ks', 'B', 'V', 'gp', 'rp', 'ip', 'zp', 'u', 'ch1', 'ch2', 'ch3', 'ch4']\n",
    "    flux_err = [ 'eY', 'eJ', 'eH', 'eKs', 'eB', 'eV', 'egp', 'erp', 'eip', 'ezp', 'eu', 'ech1', 'ech2', 'ech3', 'ech4']\n",
    "    photometry=np.column_stack(([df.loc[df['id'] == int(Id), flux[l]] for l in range(15)],[df.loc[df['id'] == int(Id), flux_err[l]] for l in range(15)]))\n",
    "    return photometry\n",
    "\n",
    "galaxy = pipes.galaxy(ID= '3', load_data= load_data, spectrum_exists = False, filt_list = filter_list)\n",
    "galaxy.plot()"
   ]
  },
  {
   "cell_type": "code",
   "execution_count": null,
   "metadata": {},
   "outputs": [],
   "source": []
  }
 ],
 "metadata": {
  "colab": {
   "name": "Untitled3.ipynb",
   "provenance": []
  },
  "kernelspec": {
   "display_name": "Python 3",
   "language": "python",
   "name": "python3"
  },
  "language_info": {
   "codemirror_mode": {
    "name": "ipython",
    "version": 3
   },
   "file_extension": ".py",
   "mimetype": "text/x-python",
   "name": "python",
   "nbconvert_exporter": "python",
   "pygments_lexer": "ipython3",
   "version": "3.7.3"
  }
 },
 "nbformat": 4,
 "nbformat_minor": 1
}
