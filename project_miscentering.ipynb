{
 "cells": [
  {
   "cell_type": "markdown",
   "metadata": {},
   "source": [
    "Progetto miscentering:\n",
    "Per prima cosa dovrete fare un cross-match tra il catalogo di ammassi trovati dall'algoritmo redmapper nella survey DES con i cataloghi di ammassi trovati dalle surveys SPT. Il matching lo potete fare sulle coordinate RA-DEC e sul redshift, diciamo chiedendo che la distanza proiettata sia minore di 10 arcmin e che la differenza tra i redshift sia minore di 0.1. Potete usare le funzioni di astropy sia per leggere i cataloghi in formato fits ( from astropy.table import Table  ... Table.read(..)) sia per fare il matching usando le funzioni di astropy coordinates. Il catalogo redmapper non è ancora pubblico (y3_gold***), quindi vi pregherei di non circolarlo.. I cataloghi SPT li potete scaricare da qui:\n",
    "https://pole.uchicago.edu/public/data/sptsz-clusters/sptecs_catalog_oct919.fits\n",
    "https://pole.uchicago.edu/public/data/sptsz-clusters/2500d_cluster_sample_Bocquet19.fits\n",
    "Le coordinate SPT sono appunto 'RA' 'DEC' e 'REDSHIFT', le coordinate RM sono 'RA', 'DEC' ed il redshift è 'Z_LAMBDA'\n",
    "Una volta fatto il matching avrete cataloghi identificati sia nell'ottico da RM, sia nel millimetrico da SPT. A questo punto, dato il redshift dell'ammasso assumete una cosmologia standard e convertite la distanza tra la posizione di RM e quella di SPT da distanza proiettata (in arcmin) a distanza fisica in Mpc. Poi avrete quindi una lista di distanze e potete scrivere una likelihood per esempio fittando una distribuzione di rayleigh ai tuoi punti e vincolare sigma. Se siete svelto, potete provare a fittare anche la somma di due distribuzioni di rayleigh assumendo che la popolazione di ammassi sia descritta da una frazione di ammassi con i centri ben identificati e da un'altra popolazione con i centri errati (ma questo punto forse ti richiederà troppo tempo, se intendete farlo fatemi sapere che ti do ulteriori dettagli)"
   ]
  },
  {
   "cell_type": "code",
   "execution_count": 1,
   "metadata": {},
   "outputs": [],
   "source": [
    "from astropy.table import Table, vstack\n",
    "from astropy import units as u\n",
    "from astropy.coordinates import SkyCoord"
   ]
  },
  {
   "cell_type": "markdown",
   "metadata": {},
   "source": [
    "Visualizing data: "
   ]
  },
  {
   "cell_type": "code",
   "execution_count": 2,
   "metadata": {},
   "outputs": [
    {
     "name": "stdout",
     "output_type": "stream",
     "text": [
      "     SPT_ID           RA     ...        PHOTOMETRIC_ZREF      \n",
      "---------------- ----------- ... -----------------------------\n",
      "SPT-CLJ0000-2518 0.072338357 ...                              \n",
      "SPT-CLJ0005-3751   1.4383179 ...                              \n",
      "SPT-CLJ0005-3443   1.4876514 ...                              \n",
      "SPT-CLJ0012-3537   3.0433397 ...                              \n",
      "SPT-CLJ0012-3346   3.1111835 ...                              \n",
      "SPT-CLJ0014-3022   3.5726598 ...                              \n",
      "SPT-CLJ0014-2024   3.6931852 ...                              \n",
      "SPT-CLJ0020-2543   5.1730618 ...                              \n",
      "SPT-CLJ0028-2649   7.0110953 ...                              \n",
      "SPT-CLJ0035-2015   8.8608249 ...                              \n",
      "             ...         ... ...                           ...\n",
      "SPT-CLJ2236-2458    339.0403 ...                              \n",
      "SPT-CLJ2238-2452   339.62654 ...                              \n",
      "SPT-CLJ2238-2458   339.68902 ...                              \n",
      "SPT-CLJ2251-2037   342.78784 ...                              \n",
      "SPT-CLJ2259-2615   344.95794 ...                              \n",
      "SPT-CLJ2305-2451   346.43507 ...                              \n",
      "SPT-CLJ2312-2130   348.07781 ...                              \n",
      "SPT-CLJ2326-2255   351.68311 ...                              \n",
      "SPT-CLJ2331-2033     352.857 ...                              \n",
      "SPT-CLJ2352-2525   358.09191 ...                              \n",
      "SPT-CLJ2353-2547   358.26347 ...                              \n",
      "Length = 470 rows\n",
      "     SPT_ID           RA     ...  M200_marge_uerr    M200_marge_lerr  \n",
      "---------------- ----------- ... ------------------ ------------------\n",
      "SPT-CLJ0000-4356 0.066333582 ... 1.0375980588899347 1.3356196167956451\n",
      "SPT-CLJ0000-5748  0.24991181 ...  1.035012721459414 1.3745721381478697\n",
      "SPT-CLJ0001-4024  0.36103009 ... 1.0399289918474048 1.3335682649066172\n",
      "SPT-CLJ0001-4842   0.2767992 ... 1.1630435404255302 1.3987907829088861\n",
      "SPT-CLJ0001-5440  0.40586575 ... 1.0198710083354374 1.4151160677386923\n",
      "SPT-CLJ0001-6258  0.40289771 ... 0.9993607335027397 1.3427732914276174\n",
      "SPT-CLJ0002-5224  0.64331706 ...                0.0                0.0\n",
      "SPT-CLJ0002-5557  0.51381378 ... 0.9488296847025035 1.3244864007604344\n",
      "SPT-CLJ0003-4155   0.7842355 ...                0.0                0.0\n",
      "SPT-CLJ0007-4706   1.7513695 ... 0.9580518337715596 1.3270946207759748\n",
      "             ...         ... ...                ...                ...\n",
      "SPT-CLJ2353-5512   358.25595 ...                0.0                0.0\n",
      "SPT-CLJ2354-5633   358.71216 ... 0.9383838128901552 1.1851435784006932\n",
      "SPT-CLJ2355-5055    358.9498 ... 1.0081748306029166 1.2532711225901085\n",
      "SPT-CLJ2356-4220   359.01268 ...   0.93472180182766 1.3404329184177062\n",
      "SPT-CLJ2356-6014   359.08213 ...                0.0                0.0\n",
      "SPT-CLJ2358-4143   359.64207 ...                0.0                0.0\n",
      "SPT-CLJ2358-4354   359.73056 ... 1.0927043600464987 1.3117342707448065\n",
      "SPT-CLJ2358-5229   359.53143 ... 0.7829183032785139  1.095016854987132\n",
      "SPT-CLJ2358-6129   359.70754 ... 1.0946507620643366 1.3766047856421615\n",
      "SPT-CLJ2359-5009   359.92296 ... 0.9701803359515031 1.2234784822669384\n",
      "SPT-CLJ2359-5727   359.88591 ...                0.0                0.0\n",
      "Length = 677 rows\n",
      "MEM_MATCH_ID        RA        ... LIM_LIMMAG_HARD MASKGAL_INDEX\n",
      "------------ ---------------- ... --------------- -------------\n",
      "           1 43.5645791817007 ...       23.559084            93\n",
      "           2  83.231901970306 ...       23.559084            64\n",
      "           3 347.092550205901 ...       23.559084            35\n",
      "           4 79.1556849306587 ...       23.559084            45\n",
      "           5 343.585507832057 ...       23.559084            96\n",
      "           6  62.795693300108 ...       23.559084             6\n",
      "           7 351.298842943216 ...       23.559084            13\n",
      "           8 41.3533695394116 ...       23.559084            96\n",
      "           9 329.035700907858 ...       23.559084            27\n",
      "          10 324.501165207868 ...       23.559084            41\n",
      "         ...              ... ...             ...           ...\n",
      "     1240652 327.370470354503 ...       23.559084            98\n",
      "     1263621 30.1659967884539 ...       23.559084            74\n",
      "     1274386 45.1492721698301 ...       23.559084             7\n",
      "     1275653 357.191925308444 ...       23.559084             7\n",
      "     1281859   2.842647245043 ...       23.559084            12\n",
      "     1286740 19.6113678298225 ...       23.559084            49\n",
      "     1339466 44.5581882485678 ...       23.559084            65\n",
      "     1343904 27.0479594449207 ...       23.559084            69\n",
      "     1378392 323.772008393336 ...       23.559084            67\n",
      "     1445323 20.7524275259392 ...       23.559084            52\n",
      "     1460197 19.8752276901326 ...       23.559084            37\n",
      "Length = 53610 rows\n"
     ]
    }
   ],
   "source": [
    "SPT1 = 'sptecs_catalog_oct919.fitS'\n",
    "SPT2 = '2500d_cluster_sample_Bocquet19.fits'\n",
    "RM = 'y3_gold_2.2.1_wide_sofcol_run2_redmapper_v6.4.22+2_lgt20_vl50_catalog.fit'\n",
    "\n",
    "print(Table.read(SPT1))\n",
    "print(Table.read(SPT2))\n",
    "print(Table.read(RM))"
   ]
  },
  {
   "cell_type": "markdown",
   "metadata": {},
   "source": [
    "Now we extract coordinates"
   ]
  },
  {
   "cell_type": "code",
   "execution_count": 62,
   "metadata": {},
   "outputs": [],
   "source": [
    "ra_SPT1 = Table.read(SPT1)['RA']\n",
    "ra_SPT2 = Table.read(SPT2)['RA']\n",
    "dec_SPT1 = Table.read(SPT1)['DEC']\n",
    "dec_SPT2 = Table.read(SPT2)['DEC']\n",
    "z_SPT1 = Table.read(SPT1)['REDSHIFT']\n",
    "z_SPT2 = Table.read(SPT2)['REDSHIFT']\n",
    "ra_SPT = vstack([ra_SPT1, ra_SPT2])\n",
    "dec_SPT = vstack([dec_SPT1, dec_SPT2])\n",
    "z_SPT = vstack([z_SPT1, z_SPT2])\n",
    "\n",
    "ra_RM = Table.read(RM)['RA']\n",
    "dec_RM = Table.read(RM)['DEC']\n",
    "z_RM = Table.read(RM)['Z_LAMBDA']"
   ]
  },
  {
   "cell_type": "markdown",
   "metadata": {},
   "source": [
    "Let's check dimension and range"
   ]
  },
  {
   "cell_type": "code",
   "execution_count": 57,
   "metadata": {},
   "outputs": [
    {
     "name": "stdout",
     "output_type": "stream",
     "text": [
      "SPT right ascension goes from 0.011752804  degrees to 359.92296 degrees, dimension:  1147\n",
      "SPT declination goes from -65.310319  degrees to -19.838489 degrees, dimension:  1147\n",
      "SPT redshift ascension goes from 0.0  to 1.7 , dimension:  1147\n",
      "RM right ascension goes from 0.00427282777269289  degrees to 359.99694655927 degrees, dimension:  53610\n",
      "RM declination goes from -68.0766988956839  degrees to 5.75057890936839 degrees, dimension:  53610\n",
      "RM redshift ascension goes from 0.1001067  to 0.9499982 , dimension:  53610\n"
     ]
    }
   ],
   "source": [
    "print(\"SPT right ascension goes from\", min(ra_SPT['RA']), \" degrees to\", max(ra_SPT['RA']), \"degrees, dimension: \", len(ra_SPT))\n",
    "print(\"SPT declination goes from\", min(dec_SPT['DEC']), \" degrees to\", max(dec_SPT['DEC']), \"degrees, dimension: \", len(dec_SPT))\n",
    "print(\"SPT redshift ascension goes from\", min(z_SPT['REDSHIFT']), \" to\", max(z_SPT['REDSHIFT']), \", dimension: \", len(z_SPT))\n",
    "\n",
    "print(\"RM right ascension goes from\", min(ra_RM), \" degrees to\", max(ra_RM), \"degrees, dimension: \", len(ra_RM))\n",
    "print(\"RM declination goes from\", min(dec_RM), \" degrees to\", max(dec_RM), \"degrees, dimension: \", len(dec_RM))\n",
    "print(\"RM redshift ascension goes from\", min(z_RM), \" to\", max(z_RM), \", dimension: \", len(z_RM))"
   ]
  },
  {
   "cell_type": "code",
   "execution_count": 65,
   "metadata": {},
   "outputs": [
    {
     "data": {
      "text/plain": [
       "numpy.ndarray"
      ]
     },
     "execution_count": 65,
     "metadata": {},
     "output_type": "execute_result"
    }
   ],
   "source": [
    "ra_SPT = np.array(ra_SPT['RA'])\n",
    "dec_SPT = np.array(dec_SPT['DEC'])\n",
    "type(ra_SPT)"
   ]
  },
  {
   "cell_type": "code",
   "execution_count": 66,
   "metadata": {},
   "outputs": [
    {
     "ename": "ValueError",
     "evalue": "Unrecognized keyword argument(s) 'redshift'",
     "output_type": "error",
     "traceback": [
      "\u001b[1;31m---------------------------------------------------------------------------\u001b[0m",
      "\u001b[1;31mValueError\u001b[0m                                Traceback (most recent call last)",
      "\u001b[1;32m<ipython-input-66-ea56637ece1c>\u001b[0m in \u001b[0;36m<module>\u001b[1;34m\u001b[0m\n\u001b[1;32m----> 1\u001b[1;33m \u001b[0mc_SPT\u001b[0m \u001b[1;33m=\u001b[0m \u001b[0mSkyCoord\u001b[0m\u001b[1;33m(\u001b[0m\u001b[0mra\u001b[0m\u001b[1;33m=\u001b[0m\u001b[0mra_SPT\u001b[0m\u001b[1;33m*\u001b[0m\u001b[0mu\u001b[0m\u001b[1;33m.\u001b[0m\u001b[0mdegree\u001b[0m\u001b[1;33m,\u001b[0m \u001b[0mdec\u001b[0m\u001b[1;33m=\u001b[0m\u001b[0mdec_SPT\u001b[0m\u001b[1;33m*\u001b[0m\u001b[0mu\u001b[0m\u001b[1;33m.\u001b[0m\u001b[0mdegree\u001b[0m\u001b[1;33m,\u001b[0m \u001b[0mredshift\u001b[0m\u001b[1;33m=\u001b[0m\u001b[0mz_SPT\u001b[0m\u001b[1;33m)\u001b[0m\u001b[1;33m\u001b[0m\u001b[1;33m\u001b[0m\u001b[0m\n\u001b[0m\u001b[0;32m      2\u001b[0m \u001b[1;31m#c_RM = SkyCoord(ra=ra2*u.degree, dec=dec2*u.degree, distance=distance2*u.kpc)\u001b[0m\u001b[1;33m\u001b[0m\u001b[1;33m\u001b[0m\u001b[1;33m\u001b[0m\u001b[0m\n\u001b[0;32m      3\u001b[0m \u001b[1;31m#>>> idx, d2d, d3d = c.match_to_catalog_3d(catalog)\u001b[0m\u001b[1;33m\u001b[0m\u001b[1;33m\u001b[0m\u001b[1;33m\u001b[0m\u001b[0m\n",
      "\u001b[1;32m~\\Anaconda3\\lib\\site-packages\\astropy\\coordinates\\sky_coordinate.py\u001b[0m in \u001b[0;36m__init__\u001b[1;34m(self, copy, *args, **kwargs)\u001b[0m\n\u001b[0;32m    255\u001b[0m             \u001b[0margs\u001b[0m \u001b[1;33m=\u001b[0m \u001b[0mlist\u001b[0m\u001b[1;33m(\u001b[0m\u001b[0margs\u001b[0m\u001b[1;33m)\u001b[0m  \u001b[1;31m# Make it mutable\u001b[0m\u001b[1;33m\u001b[0m\u001b[1;33m\u001b[0m\u001b[0m\n\u001b[0;32m    256\u001b[0m             skycoord_kwargs, components, info = _parse_coordinate_data(\n\u001b[1;32m--> 257\u001b[1;33m                 frame_cls(**frame_kwargs), args, kwargs)\n\u001b[0m\u001b[0;32m    258\u001b[0m \u001b[1;33m\u001b[0m\u001b[0m\n\u001b[0;32m    259\u001b[0m             \u001b[1;31m# In the above two parsing functions, these kwargs were identified\u001b[0m\u001b[1;33m\u001b[0m\u001b[1;33m\u001b[0m\u001b[1;33m\u001b[0m\u001b[0m\n",
      "\u001b[1;32m~\\Anaconda3\\lib\\site-packages\\astropy\\coordinates\\sky_coordinate_parsers.py\u001b[0m in \u001b[0;36m_parse_coordinate_data\u001b[1;34m(frame, args, kwargs)\u001b[0m\n\u001b[0;32m    268\u001b[0m                          .format(', '.join(\"'{0}'\".format(key)\n\u001b[0;32m    269\u001b[0m                                            for key in kwargs),\n\u001b[1;32m--> 270\u001b[1;33m                                  pm_message))\n\u001b[0m\u001b[0;32m    271\u001b[0m \u001b[1;33m\u001b[0m\u001b[0m\n\u001b[0;32m    272\u001b[0m     \u001b[1;31m# Finally deal with the unnamed args.  This figures out what the arg[0]\u001b[0m\u001b[1;33m\u001b[0m\u001b[1;33m\u001b[0m\u001b[1;33m\u001b[0m\u001b[0m\n",
      "\u001b[1;31mValueError\u001b[0m: Unrecognized keyword argument(s) 'redshift'"
     ]
    }
   ],
   "source": [
    "c_SPT = SkyCoord(ra=ra_SPT*u.degree, dec=dec_SPT*u.degree, redshift=z_SPT)\n",
    "#c_RM = SkyCoord(ra=ra2*u.degree, dec=dec2*u.degree, distance=distance2*u.kpc)\n",
    "#>>> idx, d2d, d3d = c.match_to_catalog_3d(catalog)"
   ]
  }
 ],
 "metadata": {
  "kernelspec": {
   "display_name": "Python 3",
   "language": "python",
   "name": "python3"
  },
  "language_info": {
   "codemirror_mode": {
    "name": "ipython",
    "version": 3
   },
   "file_extension": ".py",
   "mimetype": "text/x-python",
   "name": "python",
   "nbconvert_exporter": "python",
   "pygments_lexer": "ipython3",
   "version": "3.7.3"
  }
 },
 "nbformat": 4,
 "nbformat_minor": 2
}
